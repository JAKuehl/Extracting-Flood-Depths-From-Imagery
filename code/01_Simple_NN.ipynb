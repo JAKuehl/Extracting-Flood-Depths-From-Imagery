{
 "cells": [
  {
   "cell_type": "code",
   "execution_count": 18,
   "metadata": {},
   "outputs": [],
   "source": [
    "# Tensorflow example\n",
    "# Much of this code is adapted from the Manning liveProject \n",
    "#     \"Monitoring Changes in Surface Water Using Satellite Image Data\""
   ]
  },
  {
   "cell_type": "markdown",
   "metadata": {},
   "source": [
    "# Imports and global settings"
   ]
  },
  {
   "cell_type": "code",
   "execution_count": 24,
   "metadata": {},
   "outputs": [],
   "source": [
    "import numpy as np\n",
    "# import pandas as pd\n",
    "import matplotlib.pyplot as plt\n",
    "\n",
    "from sklearn.metrics import confusion_matrix"
   ]
  },
  {
   "cell_type": "code",
   "execution_count": 1,
   "metadata": {},
   "outputs": [
    {
     "data": {
      "text/plain": [
       "'2.2.0'"
      ]
     },
     "execution_count": 1,
     "metadata": {},
     "output_type": "execute_result"
    }
   ],
   "source": [
    "import tensorflow as tf\n",
    "tf.__version__"
   ]
  },
  {
   "cell_type": "code",
   "execution_count": 4,
   "metadata": {},
   "outputs": [
    {
     "data": {
      "text/plain": [
       "[]"
      ]
     },
     "execution_count": 4,
     "metadata": {},
     "output_type": "execute_result"
    }
   ],
   "source": [
    "tf.config.list_physical_devices('GPU')   # good to know; may need to select -cpu options\n",
    "                                         # empty list [] means no GPU"
   ]
  },
  {
   "cell_type": "code",
   "execution_count": 5,
   "metadata": {},
   "outputs": [],
   "source": [
    "from tensorflow.python.keras.layers import Dense, Flatten, Dropout, BatchNormalization"
   ]
  },
  {
   "cell_type": "markdown",
   "metadata": {},
   "source": [
    "# Read or select data"
   ]
  },
  {
   "cell_type": "code",
   "execution_count": 12,
   "metadata": {},
   "outputs": [],
   "source": [
    "# Trial run with a classic data set -- handwritten numbers\n",
    "mnist = tf.keras.datasets.mnist  # these are the number images\n",
    "\n",
    "# these can be loaded directly into train and test - note that this is NOT the same order as train_test_split()\n",
    "(X_train, y_train), (X_test, y_test) = mnist.load_data()"
   ]
  },
  {
   "cell_type": "code",
   "execution_count": 13,
   "metadata": {},
   "outputs": [],
   "source": [
    "# I've seen these images rescaled so that they are 0 to 1 instead of 0 to 255; not sure if/why we need this\n",
    "# x_train, x_test = x_train / 255.0, x_test / 255.0"
   ]
  },
  {
   "cell_type": "code",
   "execution_count": 15,
   "metadata": {},
   "outputs": [
    {
     "name": "stdout",
     "output_type": "stream",
     "text": [
      "60000 train examples, 10000 test examples\n",
      "Image shapes are (28, 28)\n"
     ]
    }
   ],
   "source": [
    "# print some info about this classic data set\n",
    "print(\"{} train examples, {} test examples\".format(X_train.shape[0],X_test.shape[0]))\n",
    "print(\"Image shapes are {}\".format(X_train[0].shape))   # get the shape of the first image in the train set"
   ]
  },
  {
   "cell_type": "code",
   "execution_count": 17,
   "metadata": {},
   "outputs": [
    {
     "data": {
      "image/png": "[encoded data removed]",
      "text/plain": [
       "<Figure size 1008x576 with 24 Axes>"
      ]
     },
     "metadata": {
      "needs_background": "light"
     },
     "output_type": "display_data"
    }
   ],
   "source": [
    "# Look at some of the images in the set\n",
    "fig = plt.figure(figsize=(14,8))\n",
    "\n",
    "# plan 24 images\n",
    "ax_list = []\n",
    "for i in range(24):\n",
    "    ax = fig.add_subplot(4,6,i+1)\n",
    "    ax.imshow(X_train[i],cmap='gray')\n",
    "    ax_list.append(ax)"
   ]
  },
  {
   "cell_type": "markdown",
   "metadata": {},
   "source": [
    "# Create a simple neural network"
   ]
  },
  {
   "cell_type": "code",
   "execution_count": 19,
   "metadata": {},
   "outputs": [],
   "source": [
    "# Very simple example -- we can expand on this\n",
    "\n",
    "# Instantiating this kind of model has more steps; you kind of build yourself a sandwich instead of\n",
    "#    passing hyperparameters\n",
    "model = tf.keras.models.Sequential()\n",
    "model.add(Flatten(input_shape=(28,28)))\n",
    "model.add(Dense(units=128, activation='relu'))     # single hidden layer, 'rectified linear unit' or relu\n",
    "model.add(Dropout(0.2))                            # drop 20% of neurons, selected randomly\n",
    "model.add(Dense(units=10, activation='softmax'))   # softmax - it's like the logistic regression that decides\n",
    "                # the answer -- this is the piece that does the final classification into 1 of 10 classes\n",
    "                # the 10 classes are, of course: 0 1 2 3 4 5 6 7 8 9\n",
    "                # see https://towardsdatascience.com/softmax-function-simplified-714068bf8156"
   ]
  },
  {
   "cell_type": "code",
   "execution_count": 20,
   "metadata": {},
   "outputs": [
    {
     "name": "stdout",
     "output_type": "stream",
     "text": [
      "Model: \"sequential\"\n",
      "_________________________________________________________________\n",
      "Layer (type)                 Output Shape              Param #   \n",
      "=================================================================\n",
      "flatten (Flatten)            (None, 784)               0         \n",
      "_________________________________________________________________\n",
      "dense (Dense)                (None, 128)               100480    \n",
      "_________________________________________________________________\n",
      "dropout (Dropout)            (None, 128)               0         \n",
      "_________________________________________________________________\n",
      "dense_1 (Dense)              (None, 10)                1290      \n",
      "=================================================================\n",
      "Total params: 101,770\n",
      "Trainable params: 101,770\n",
      "Non-trainable params: 0\n",
      "_________________________________________________________________\n"
     ]
    },
    {
     "data": {
      "text/plain": [
       "[<tf.Tensor 'dense_1/Identity:0' shape=(None, 10) dtype=float32>]"
      ]
     },
     "execution_count": 20,
     "metadata": {},
     "output_type": "execute_result"
    }
   ],
   "source": [
    "# Like all the models we've used, you can find out some stuff about it\n",
    "model.summary()   # what's in it -- for keras/tf, this means the layers\n",
    "model.layers\n",
    "model.inputs\n",
    "model.outputs"
   ]
  },
  {
   "cell_type": "code",
   "execution_count": 21,
   "metadata": {},
   "outputs": [],
   "source": [
    "# Keras/TF model needs to be compiled -- this is more like the hyperparameters we're used to, I think\n",
    "model.compile(optimizer='adam', # this will do gradient descent to solve; there might be other options\n",
    "             loss = 'sparse_categorical_crossentropy', # this is our loss function, categorical problem\n",
    "                                                       # this probably also has other options\n",
    "             metrics=['accuracy']  # you can tell it to do other metrics; they aren't used during training\n",
    "                                   # like the loss function is, but it'll compute stuff for you\n",
    "             )"
   ]
  },
  {
   "cell_type": "code",
   "execution_count": 22,
   "metadata": {},
   "outputs": [
    {
     "name": "stdout",
     "output_type": "stream",
     "text": [
      "Epoch 1/5\n",
      "1875/1875 [==============================] - 1s 742us/step - loss: 2.3755 - accuracy: 0.7474\n",
      "Epoch 2/5\n",
      "1875/1875 [==============================] - 1s 739us/step - loss: 0.6100 - accuracy: 0.8397\n",
      "Epoch 3/5\n",
      "1875/1875 [==============================] - 1s 734us/step - loss: 0.4912 - accuracy: 0.8695\n",
      "Epoch 4/5\n",
      "1875/1875 [==============================] - 1s 738us/step - loss: 0.4326 - accuracy: 0.8900\n",
      "Epoch 5/5\n",
      "1875/1875 [==============================] - 1s 737us/step - loss: 0.3868 - accuracy: 0.9005\n"
     ]
    },
    {
     "data": {
      "text/plain": [
       "<tensorflow.python.keras.callbacks.History at 0x7ff48882ead0>"
      ]
     },
     "execution_count": 22,
     "metadata": {},
     "output_type": "execute_result"
    }
   ],
   "source": [
    "# Train the model\n",
    "model.fit(X_train, y_train, epochs=5)\n",
    "\n",
    "# these models have to give a go several times; it'll get better if you give it more epochs, but \n",
    "#  it will also take longer. If you go crazy with epochs on a big data set, this can run for days."
   ]
  },
  {
   "cell_type": "code",
   "execution_count": 23,
   "metadata": {},
   "outputs": [
    {
     "name": "stdout",
     "output_type": "stream",
     "text": [
      "313/313 [==============================] - 0s 614us/step - loss: 0.3094 - accuracy: 0.9345\n"
     ]
    },
    {
     "data": {
      "text/plain": [
       "[0.30937880277633667, 0.934499979019165]"
      ]
     },
     "execution_count": 23,
     "metadata": {},
     "output_type": "execute_result"
    }
   ],
   "source": [
    "# Evaluate the model\n",
    "model.evaluate(X_test, y_test, verbose=1)\n",
    "# accuracy for me after 5 epochs as 0.9345"
   ]
  },
  {
   "cell_type": "code",
   "execution_count": 28,
   "metadata": {},
   "outputs": [
    {
     "data": {
      "text/plain": [
       "array([[0.0000000e+00, 0.0000000e+00, 1.8506694e-37, ..., 1.0000000e+00,\n",
       "        0.0000000e+00, 2.1470608e-21],\n",
       "       [6.8561633e-15, 4.3870664e-11, 1.0000000e+00, ..., 6.7091815e-22,\n",
       "        3.5987112e-13, 9.5590266e-27],\n",
       "       [4.1551538e-29, 9.9999821e-01, 2.9906215e-09, ..., 1.8231432e-06,\n",
       "        3.6636302e-11, 4.2827495e-12],\n",
       "       ...,\n",
       "       [4.5356354e-33, 4.5110823e-10, 3.8138931e-21, ..., 4.4748285e-12,\n",
       "        2.4836304e-15, 2.2847639e-09],\n",
       "       [1.6696619e-09, 2.6285484e-11, 2.0482930e-13, ..., 1.0085598e-03,\n",
       "        5.0422512e-03, 8.5805514e-09],\n",
       "       [4.8836105e-21, 3.2359655e-31, 5.0356051e-18, ..., 0.0000000e+00,\n",
       "        2.5120242e-23, 2.4485122e-31]], dtype=float32)"
      ]
     },
     "execution_count": 28,
     "metadata": {},
     "output_type": "execute_result"
    }
   ],
   "source": [
    "# Get predictions so we can look at the confusion matrix\n",
    "y_pred = model.predict(X_test)\n",
    "y_pred"
   ]
  },
  {
   "cell_type": "code",
   "execution_count": 29,
   "metadata": {},
   "outputs": [
    {
     "data": {
      "text/plain": [
       "<tf.Tensor: shape=(10000,), dtype=int64, numpy=array([7, 2, 1, ..., 4, 5, 6])>"
      ]
     },
     "execution_count": 29,
     "metadata": {},
     "output_type": "execute_result"
    }
   ],
   "source": [
    "# Need to conver the y_pred to run the confusion matrix, but I don't know why yet...\n",
    "y_pred_convert = tf.argmax(y_pred, axis=1)\n",
    "y_pred_convert"
   ]
  },
  {
   "cell_type": "code",
   "execution_count": 30,
   "metadata": {},
   "outputs": [
    {
     "data": {
      "text/plain": [
       "array([[ 951,    0,    3,    0,    1,    0,    2,    3,   20,    0],\n",
       "       [   0, 1081,   10,    4,    2,    1,    1,    0,   36,    0],\n",
       "       [   4,    0,  985,    6,    3,    0,    2,    7,   21,    4],\n",
       "       [   1,    0,   13,  943,    0,   14,    0,   11,   24,    4],\n",
       "       [   0,    0,    5,    1,  905,    0,    6,    1,   10,   54],\n",
       "       [   3,    0,    2,   27,    0,  788,    9,   12,   37,   14],\n",
       "       [   6,    1,    5,    0,    6,    3,  917,    2,   18,    0],\n",
       "       [   2,    2,   31,    2,    9,    0,    0,  952,    4,   26],\n",
       "       [   3,    1,   19,   19,   13,    4,    3,   11,  887,   14],\n",
       "       [   2,    4,    1,   12,   21,    5,    2,   11,   15,  936]])"
      ]
     },
     "execution_count": 30,
     "metadata": {},
     "output_type": "execute_result"
    }
   ],
   "source": [
    "# Compute confusion matrix\n",
    "confusion_matrix(y_test,y_pred_convert)\n",
    "# large numbers on the diagonal are good; any numbers not on the diagonal are bad predictions"
   ]
  },
  {
   "cell_type": "code",
   "execution_count": null,
   "metadata": {},
   "outputs": [],
   "source": []
  }
 ],
 "metadata": {
  "kernelspec": {
   "display_name": "Python 3",
   "language": "python",
   "name": "python3"
  },
  "language_info": {
   "codemirror_mode": {
    "name": "ipython",
    "version": 3
   },
   "file_extension": ".py",
   "mimetype": "text/x-python",
   "name": "python",
   "nbconvert_exporter": "python",
   "pygments_lexer": "ipython3",
   "version": "3.7.7"
  }
 },
 "nbformat": 4,
 "nbformat_minor": 4
}
