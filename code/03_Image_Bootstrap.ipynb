{
 "cells": [
  {
   "cell_type": "markdown",
   "metadata": {},
   "source": [
    "# Image Bootstrap \n",
    "\n",
    "To increase the number of training images, we can take the originals and \n",
    "- convert to black and white\n",
    "- rotate\n",
    "- flip horizontally\n"
   ]
  },
  {
   "cell_type": "markdown",
   "metadata": {},
   "source": [
    "## Imports"
   ]
  },
  {
   "cell_type": "code",
   "execution_count": 1,
   "metadata": {},
   "outputs": [],
   "source": [
    "from PIL import Image, ImageEnhance\n",
    "import os\n",
    "import numpy as np"
   ]
  },
  {
   "cell_type": "markdown",
   "metadata": {},
   "source": [
    "## Global configuration settings"
   ]
  },
  {
   "cell_type": "code",
   "execution_count": 2,
   "metadata": {},
   "outputs": [],
   "source": [
    "#image_dir = '../images/test'\n",
    "#image_dir = '../images/bootstrap_truck'\n",
    "#image_dir = '../images/truck/test/depth_0'\n",
    "image_dir = '../images/truck/validate/depth_0'\n",
    "\n",
    "aug_separated = False  # True to put new images in a new folder under image_dir/augmented\n",
    "                      # False to keep in same folder as original"
   ]
  },
  {
   "cell_type": "markdown",
   "metadata": {},
   "source": [
    "## Image list"
   ]
  },
  {
   "cell_type": "code",
   "execution_count": 3,
   "metadata": {},
   "outputs": [
    {
     "name": "stdout",
     "output_type": "stream",
     "text": [
      "2020-ram-1500-dt-whybuy-towing-boat-lake-wood_9c49b99c885cf843e2e947809120b2c1-839x310.jpg\r\n",
      "8f87e2dd99bc5e37a5ff1a6491cc9dbc.jpg\r\n",
      "black-ram-truck-diamondback-hd-rain-1920.jpg\r\n"
     ]
    }
   ],
   "source": [
    "# Optional peek at the list of input images\n",
    "!ls {image_dir}"
   ]
  },
  {
   "cell_type": "markdown",
   "metadata": {},
   "source": [
    "## Transformation functions"
   ]
  },
  {
   "cell_type": "code",
   "execution_count": 4,
   "metadata": {},
   "outputs": [],
   "source": [
    "# TODO: if use of the augmented dir was selected, check for existence and create if needed"
   ]
  },
  {
   "cell_type": "code",
   "execution_count": 5,
   "metadata": {},
   "outputs": [],
   "source": [
    "# Remove .DS_store from the list of files\n",
    "def rm_DS(mlist): \n",
    "    if ('.DS_Store' in mlist): mlist.remove('.DS_Store')\n",
    "    return mlist"
   ]
  },
  {
   "cell_type": "code",
   "execution_count": 6,
   "metadata": {},
   "outputs": [],
   "source": [
    "# Remove other items from the list of files in a list\n",
    "def rm_config(mlist,item): \n",
    "    if (item in mlist): mlist.remove(item)\n",
    "    return mlist"
   ]
  },
  {
   "cell_type": "code",
   "execution_count": 7,
   "metadata": {},
   "outputs": [],
   "source": [
    "def make_hflip_version(path,fname,augdir = False):\n",
    "    if (augdir):\n",
    "        finish_sep = '/augmented/'\n",
    "    else:\n",
    "        finish_sep = '/'\n",
    "                \n",
    "    new_fname = 'hflip_' + fname\n",
    "    fullpath_start  = path + '/' + fname\n",
    "    fullpath_finish = path + finish_sep + new_fname\n",
    "    \n",
    "    start_img = Image.open(fullpath_start)\n",
    "    converted = start_img.transpose(method=Image.FLIP_LEFT_RIGHT)\n",
    "    converted.save(fullpath_finish)\n",
    "    start_img.close()\n",
    "    \n",
    "    return new_fname"
   ]
  },
  {
   "cell_type": "code",
   "execution_count": 8,
   "metadata": {},
   "outputs": [],
   "source": [
    "def make_bw_version(path,fname,augdir = False, debug=False):\n",
    "    if (augdir):\n",
    "        finish_sep = '/augmented/'\n",
    "    else:\n",
    "        finish_sep = '/'\n",
    "        \n",
    "    if (debug):\n",
    "        print(\"DEBUG: make_bw_version:\")\n",
    "        print(\"DEBUG: make_bw_version:\")\n",
    "        print(\"DEBUG: make_bw_version:\")\n",
    "        \n",
    "    new_fname = 'bw_' + fname\n",
    "    fullpath_start  = path + '/' + fname\n",
    "    fullpath_finish = path + finish_sep + new_fname\n",
    "    \n",
    "    start_img = Image.open(fullpath_start)\n",
    "    converted = start_img.convert(mode='L')\n",
    "    converted .save(fullpath_finish)\n",
    "    start_img.close()\n",
    "    \n",
    "    return new_fname"
   ]
  },
  {
   "cell_type": "code",
   "execution_count": 9,
   "metadata": {},
   "outputs": [],
   "source": [
    "def make_rot_version(path,fname,rotation,augdir = False):\n",
    "    if (augdir):\n",
    "        finish_sep = '/augmented/'\n",
    "    else:\n",
    "        finish_sep = '/'\n",
    "            \n",
    "    new_fname = 'rot-'+ str(rotation) + '_' + fname\n",
    "    fullpath_start  = path + '/' + fname\n",
    "    fullpath_finish = path + finish_sep + new_fname\n",
    "    \n",
    "    start_img = Image.open(fullpath_start)\n",
    "    converted = start_img.rotate(rotation)\n",
    "    converted.save(fullpath_finish)\n",
    "    start_img.close()\n",
    "    \n",
    "    return new_fname"
   ]
  },
  {
   "cell_type": "code",
   "execution_count": 10,
   "metadata": {},
   "outputs": [],
   "source": [
    "def make_enhanced_version(path,fname,factor,augdir = False):\n",
    "    '''factor of 1 means no change\n",
    "                <1 means less color (brightness, contrast, etc.)\n",
    "                >1 means actual enhancement'''\n",
    "    if (augdir):\n",
    "        finish_sep = '/augmented/'\n",
    "    else:\n",
    "        finish_sep = '/'\n",
    "                \n",
    "    new_fname = 'enh-'+ str(factor) + '_' + fname\n",
    "    fullpath_start  = path + '/' + fname\n",
    "    fullpath_finish = path + finish_sep + new_fname\n",
    "    \n",
    "    start_img = Image.open(fullpath_start)\n",
    "    converted = ImageEnhance.Sharpness(start_img).enhance(factor)\n",
    "    converted.save(fullpath_finish)\n",
    "    start_img.close()\n",
    "    \n",
    "    return new_fname"
   ]
  },
  {
   "cell_type": "code",
   "execution_count": 11,
   "metadata": {},
   "outputs": [],
   "source": [
    "def make_contrast_version(path,fname,factor,augdir = False):\n",
    "    if (augdir):\n",
    "        finish_sep = '/augmented/'\n",
    "    else:\n",
    "        finish_sep = '/'\n",
    "        \n",
    "    new_fname = 'con-'+ str(factor) + '_' + fname\n",
    "    fullpath_start  = path + '/' + fname\n",
    "    fullpath_finish = path + finish_sep + new_fname\n",
    "    \n",
    "    start_img = Image.open(fullpath_start)\n",
    "    converted = ImageEnhance.Contrast(start_img).enhance(factor)\n",
    "    converted.save(fullpath_finish)\n",
    "    start_img.close()\n",
    "    \n",
    "    return new_fname"
   ]
  },
  {
   "cell_type": "code",
   "execution_count": 12,
   "metadata": {},
   "outputs": [],
   "source": [
    "def make_crop_version(path,fname,factor,augdir = False):\n",
    "    if (augdir):\n",
    "        finish_sep = '/augmented/'\n",
    "    else:\n",
    "        finish_sep = '/'\n",
    "        \n",
    "    new_fname = 'crop-'+ str(factor) + '_' + fname\n",
    "    fullpath_start  = path + '/' + fname\n",
    "    fullpath_finish = path + finish_sep + new_fname\n",
    "    \n",
    "    start_img = Image.open(fullpath_start)\n",
    "    wid, ht = start_img.size\n",
    "    (left, upper, right, lower) = (0, 0, wid, ht*factor)\n",
    "    \n",
    "    converted = start_img.crop((left, upper, right, lower))\n",
    "    converted.save(fullpath_finish)\n",
    "    start_img.close()\n",
    "    \n",
    "    return new_fname"
   ]
  },
  {
   "cell_type": "markdown",
   "metadata": {},
   "source": [
    "## Make Transforms"
   ]
  },
  {
   "cell_type": "code",
   "execution_count": 13,
   "metadata": {},
   "outputs": [
    {
     "name": "stdout",
     "output_type": "stream",
     "text": [
      "../images/truck/test/depth_0\n"
     ]
    }
   ],
   "source": [
    "print(image_dir)"
   ]
  },
  {
   "cell_type": "code",
   "execution_count": 14,
   "metadata": {},
   "outputs": [],
   "source": [
    "# get files in dir into a list; remove '.DS_Store'\n",
    "image_list = rm_config(rm_DS(os.listdir(image_dir)),'augmented')"
   ]
  },
  {
   "cell_type": "code",
   "execution_count": 15,
   "metadata": {},
   "outputs": [
    {
     "data": {
      "text/plain": [
       "['black-ram-truck-diamondback-hd-rain-1920.jpg',\n",
       " '2020-ram-1500-dt-whybuy-towing-boat-lake-wood_9c49b99c885cf843e2e947809120b2c1-839x310.jpg',\n",
       " '8f87e2dd99bc5e37a5ff1a6491cc9dbc.jpg']"
      ]
     },
     "execution_count": 15,
     "metadata": {},
     "output_type": "execute_result"
    }
   ],
   "source": [
    "# optional check of the image_list\n",
    "image_list"
   ]
  },
  {
   "cell_type": "code",
   "execution_count": 16,
   "metadata": {},
   "outputs": [],
   "source": [
    "# run transforms on the files in the list\n",
    "for image in image_list: \n",
    "\n",
    "    # Include BW versions to avoid training on color variation\n",
    "    make_bw_version(image_dir, image, augdir=aug_separated)\n",
    "    \n",
    "    # Simple horizontal flip so that we don't inadvertently\n",
    "    #    train on left-facing are in shallow, right-facing are in deep, or similar\n",
    "    make_hflip_version(image_dir, image, augdir=aug_separated)\n",
    "\n",
    "    # Rotation of up to 5 degrees may account for handheld horizon variation in photos\n",
    "    cx = round(np.random.uniform(1,5),1)     \n",
    "    make_rot_version(image_dir, image, cx, augdir=aug_separated)\n",
    "\n",
    "    # Crops that retained less than 0.8 of the image were too extreme\n",
    "    cx = round(np.random.uniform(.8,.9),2)\n",
    "    make_crop_version(image_dir, image, cx, augdir=aug_separated)"
   ]
  },
  {
   "cell_type": "markdown",
   "metadata": {},
   "source": [
    "### Experiments"
   ]
  },
  {
   "cell_type": "code",
   "execution_count": null,
   "metadata": {},
   "outputs": [],
   "source": [
    "# TODO: Remove this entire section once we have the transforms we want"
   ]
  },
  {
   "cell_type": "code",
   "execution_count": 17,
   "metadata": {},
   "outputs": [],
   "source": [
    "# path = '../images/test'\n",
    "# fname = '34384058_05039deebe_z.jpg'\n",
    "# # \n",
    "# # Do selected transforms\n",
    "# bw_name = make_bw_version(path,fname)"
   ]
  },
  {
   "cell_type": "code",
   "execution_count": 18,
   "metadata": {},
   "outputs": [],
   "source": [
    "#make_rot_version(path,bw_name,5)"
   ]
  },
  {
   "cell_type": "code",
   "execution_count": 19,
   "metadata": {},
   "outputs": [],
   "source": [
    "#make_enhanced_version(path, fname, 0.01)"
   ]
  },
  {
   "cell_type": "code",
   "execution_count": 20,
   "metadata": {},
   "outputs": [],
   "source": [
    "#con = make_contrast_version(path, fname, 0.3)\n",
    "#con"
   ]
  },
  {
   "cell_type": "code",
   "execution_count": 21,
   "metadata": {},
   "outputs": [],
   "source": [
    "#crop = make_crop_version(path, con, 0.7)\n",
    "#crop"
   ]
  },
  {
   "cell_type": "code",
   "execution_count": 22,
   "metadata": {},
   "outputs": [],
   "source": [
    "#c4 = make_crop_version(path, fname, 0.4)\n",
    "#c4"
   ]
  },
  {
   "cell_type": "code",
   "execution_count": 23,
   "metadata": {},
   "outputs": [],
   "source": [
    "#round(np.random.uniform(.6,.9),2)"
   ]
  },
  {
   "cell_type": "code",
   "execution_count": 24,
   "metadata": {},
   "outputs": [],
   "source": [
    "# # get image size\n",
    "\n",
    "# fullpath_start = path + '/' + fname\n",
    "# fullpath_finish = path + '/' + 'crop-' + fname"
   ]
  },
  {
   "cell_type": "code",
   "execution_count": 25,
   "metadata": {},
   "outputs": [],
   "source": [
    "#start_img = Image.open(fullpath_start)"
   ]
  },
  {
   "cell_type": "code",
   "execution_count": 26,
   "metadata": {},
   "outputs": [],
   "source": [
    "#wid, ht = start_img.size"
   ]
  },
  {
   "cell_type": "code",
   "execution_count": 27,
   "metadata": {},
   "outputs": [],
   "source": [
    "#(left, upper, right, lower) = (0, 0, wid, ht/2)"
   ]
  },
  {
   "cell_type": "code",
   "execution_count": 28,
   "metadata": {},
   "outputs": [],
   "source": [
    "#converted = start_img.crop((left, upper, right, lower))"
   ]
  },
  {
   "cell_type": "code",
   "execution_count": null,
   "metadata": {},
   "outputs": [],
   "source": []
  },
  {
   "cell_type": "code",
   "execution_count": 29,
   "metadata": {},
   "outputs": [],
   "source": [
    "\n",
    "#converted.save(fullpath_finish)"
   ]
  },
  {
   "cell_type": "code",
   "execution_count": 30,
   "metadata": {},
   "outputs": [],
   "source": [
    "#start_img.close()"
   ]
  }
 ],
 "metadata": {
  "kernelspec": {
   "display_name": "Python 3",
   "language": "python",
   "name": "python3"
  },
  "language_info": {
   "codemirror_mode": {
    "name": "ipython",
    "version": 3
   },
   "file_extension": ".py",
   "mimetype": "text/x-python",
   "name": "python",
   "nbconvert_exporter": "python",
   "pygments_lexer": "ipython3",
   "version": "3.7.7"
  }
 },
 "nbformat": 4,
 "nbformat_minor": 4
}
