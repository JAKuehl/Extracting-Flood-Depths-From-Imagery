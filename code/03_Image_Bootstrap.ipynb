{
 "cells": [
  {
   "cell_type": "markdown",
   "metadata": {},
   "source": [
    "# Image Bootstrap \n",
    "\n",
    "To increase the number of training images, we can take the originals and \n",
    "- convert to black and white\n",
    "- rotate\n",
    "- flip horizontally\n"
   ]
  },
  {
   "cell_type": "markdown",
   "metadata": {},
   "source": [
    "## Imports"
   ]
  },
  {
   "cell_type": "code",
   "execution_count": 96,
   "metadata": {},
   "outputs": [],
   "source": [
    "# Importing Required Module\n",
    "from PIL import Image, ImageEnhance\n",
    "import os\n",
    "import numpy as np"
   ]
  },
  {
   "cell_type": "markdown",
   "metadata": {},
   "source": [
    "## Image list"
   ]
  },
  {
   "cell_type": "code",
   "execution_count": 107,
   "metadata": {},
   "outputs": [],
   "source": [
    "#image_dir = '../images/test'\n",
    "image_dir = '../images/test_truck'"
   ]
  },
  {
   "cell_type": "code",
   "execution_count": 108,
   "metadata": {},
   "outputs": [
    {
     "name": "stdout",
     "output_type": "stream",
     "text": [
      "gettyimages-840873006-2048x2048.jpg gettyimages-841011194-2048x2048.jpg\r\n",
      "gettyimages-840910132-2048x2048.jpg gettyimages-841044142-2048x2048.jpg\r\n",
      "gettyimages-840959450-2048x2048.jpg gettyimages-841044150-2048x2048.jpg\r\n",
      "gettyimages-840962136-2048x2048.jpg gettyimages-841044170-2048x2048.jpg\r\n"
     ]
    }
   ],
   "source": [
    "!ls {image_dir}"
   ]
  },
  {
   "cell_type": "code",
   "execution_count": 109,
   "metadata": {},
   "outputs": [],
   "source": [
    "# f1 = '../images/test/2962247943_fbfc48279b_z.jpg'\n",
    "# f1_hflip = '../images/test/hflip_2962247943_fbfc48279b_z.jpg'\n",
    "# # f1_vflip = '../images/test/vflip_2962247943_fbfc48279b_z.jpg'\n",
    "\n",
    "# f1_bw = '../images/test/bw_2962247943_fbfc48279b_z.jpg'"
   ]
  },
  {
   "cell_type": "markdown",
   "metadata": {},
   "source": [
    "## Transformation functions"
   ]
  },
  {
   "cell_type": "code",
   "execution_count": 110,
   "metadata": {},
   "outputs": [],
   "source": [
    "def make_hflip_version(path,fname):\n",
    "        \n",
    "    new_fname = 'hflip_' + fname\n",
    "    fullpath_start  = path + '/' + fname\n",
    "    fullpath_finish = path + '/' + new_fname\n",
    "    \n",
    "    start_img = Image.open(fullpath_start)\n",
    "    converted = start_img.transpose(method=Image.FLIP_LEFT_RIGHT)\n",
    "    converted.save(fullpath_finish)\n",
    "    start_img.close()\n",
    "    \n",
    "    return new_fname"
   ]
  },
  {
   "cell_type": "code",
   "execution_count": 111,
   "metadata": {},
   "outputs": [],
   "source": [
    "def make_bw_version(path,fname):\n",
    "    \n",
    "    new_fname = 'bw_' + fname\n",
    "    fullpath_start  = path + '/' + fname\n",
    "    fullpath_finish = path + '/' + new_fname\n",
    "    \n",
    "    start_img = Image.open(fullpath_start)\n",
    "    converted = start_img.convert(mode='L')\n",
    "    converted .save(fullpath_finish)\n",
    "    start_img.close()\n",
    "    \n",
    "    return new_fname"
   ]
  },
  {
   "cell_type": "code",
   "execution_count": 112,
   "metadata": {},
   "outputs": [],
   "source": [
    "def make_rot_version(path,fname,rotation):\n",
    "    \n",
    "    new_fname = 'rot-'+ str(rotation) + '_' + fname\n",
    "    fullpath_start  = path + '/' + fname\n",
    "    fullpath_finish = path + '/' + new_fname\n",
    "    \n",
    "    start_img = Image.open(fullpath_start)\n",
    "    converted = start_img.rotate(rotation)\n",
    "    converted.save(fullpath_finish)\n",
    "    start_img.close()\n",
    "    \n",
    "    return new_fname"
   ]
  },
  {
   "cell_type": "code",
   "execution_count": 113,
   "metadata": {},
   "outputs": [],
   "source": [
    "def make_enhanced_version(path,fname,factor):\n",
    "    '''factor of 1 means no change\n",
    "                <1 means less color (brightness, contrast, etc.)\n",
    "                >1 means actual enhancement'''\n",
    "        \n",
    "    new_fname = 'enh-'+ str(factor) + '_' + fname\n",
    "    fullpath_start  = path + '/' + fname\n",
    "    fullpath_finish = path + '/' + new_fname\n",
    "    \n",
    "    start_img = Image.open(fullpath_start)\n",
    "    converted = ImageEnhance.Sharpness(start_img).enhance(factor)\n",
    "    converted.save(fullpath_finish)\n",
    "    start_img.close()\n",
    "    \n",
    "    return new_fname"
   ]
  },
  {
   "cell_type": "code",
   "execution_count": 114,
   "metadata": {},
   "outputs": [],
   "source": [
    "def make_contrast_version(path,fname,factor):\n",
    "        \n",
    "    new_fname = 'con-'+ str(factor) + '_' + fname\n",
    "    fullpath_start  = path + '/' + fname\n",
    "    fullpath_finish = path + '/' + new_fname\n",
    "    \n",
    "    start_img = Image.open(fullpath_start)\n",
    "    converted = ImageEnhance.Contrast(start_img).enhance(factor)\n",
    "    converted.save(fullpath_finish)\n",
    "    start_img.close()\n",
    "    \n",
    "    return new_fname"
   ]
  },
  {
   "cell_type": "code",
   "execution_count": 115,
   "metadata": {},
   "outputs": [],
   "source": [
    "def make_crop_version(path,fname,factor):\n",
    "        \n",
    "    new_fname = 'crop-'+ str(factor) + '_' + fname\n",
    "    fullpath_start  = path + '/' + fname\n",
    "    fullpath_finish = path + '/' + new_fname\n",
    "    \n",
    "    start_img = Image.open(fullpath_start)\n",
    "    wid, ht = start_img.size\n",
    "    (left, upper, right, lower) = (0, 0, wid, ht*factor)\n",
    "    \n",
    "    converted = start_img.crop((left, upper, right, lower))\n",
    "    converted.save(fullpath_finish)\n",
    "    start_img.close()\n",
    "    \n",
    "    return new_fname"
   ]
  },
  {
   "cell_type": "markdown",
   "metadata": {},
   "source": [
    "## Make Transforms"
   ]
  },
  {
   "cell_type": "code",
   "execution_count": 116,
   "metadata": {},
   "outputs": [
    {
     "name": "stdout",
     "output_type": "stream",
     "text": [
      "../images/test_truck\n"
     ]
    }
   ],
   "source": [
    "print(image_dir)"
   ]
  },
  {
   "cell_type": "code",
   "execution_count": 117,
   "metadata": {},
   "outputs": [
    {
     "name": "stdout",
     "output_type": "stream",
     "text": [
      "gettyimages-840873006-2048x2048.jpg gettyimages-841011194-2048x2048.jpg\r\n",
      "gettyimages-840910132-2048x2048.jpg gettyimages-841044142-2048x2048.jpg\r\n",
      "gettyimages-840959450-2048x2048.jpg gettyimages-841044150-2048x2048.jpg\r\n",
      "gettyimages-840962136-2048x2048.jpg gettyimages-841044170-2048x2048.jpg\r\n"
     ]
    }
   ],
   "source": [
    "!ls {image_dir}"
   ]
  },
  {
   "cell_type": "code",
   "execution_count": 118,
   "metadata": {},
   "outputs": [],
   "source": [
    "# get files in dir into a list\n",
    "image_list = os.listdir(image_dir)"
   ]
  },
  {
   "cell_type": "code",
   "execution_count": 119,
   "metadata": {},
   "outputs": [
    {
     "data": {
      "text/plain": [
       "['gettyimages-841044170-2048x2048.jpg',\n",
       " 'gettyimages-840910132-2048x2048.jpg',\n",
       " '.DS_Store',\n",
       " 'gettyimages-841011194-2048x2048.jpg',\n",
       " 'gettyimages-840873006-2048x2048.jpg',\n",
       " 'gettyimages-841044150-2048x2048.jpg',\n",
       " 'gettyimages-841044142-2048x2048.jpg',\n",
       " 'gettyimages-840959450-2048x2048.jpg',\n",
       " 'gettyimages-840962136-2048x2048.jpg']"
      ]
     },
     "execution_count": 119,
     "metadata": {},
     "output_type": "execute_result"
    }
   ],
   "source": [
    "image_list"
   ]
  },
  {
   "cell_type": "code",
   "execution_count": 120,
   "metadata": {},
   "outputs": [],
   "source": [
    "# run transforms on the files in the list\n",
    "for image in image_list: \n",
    "    if (image != '.DS_Store'): # skip this file\n",
    "        make_bw_version(image_dir,image)\n",
    "        make_hflip_version(image_dir,image)\n",
    "\n",
    "        cx = round(np.random.uniform(1,6),1)     \n",
    "        make_rot_version(image_dir,image,5)\n",
    "\n",
    "        cx = round(np.random.uniform(.01,.3),2)    \n",
    "        make_enhanced_version(image_dir,image, 0.01)\n",
    "\n",
    "        make_contrast_version(image_dir,image, 0.3)\n",
    "\n",
    "        cx = round(np.random.uniform(.6,.9),2)\n",
    "        make_crop_version(image_dir,image, cx)\n",
    "\n",
    "        cx = round(np.random.uniform(.4,.6),2)\n",
    "        make_crop_version(image_dir,image, cx)\n",
    "\n",
    "        cx = round(np.random.uniform(.3,.5),2)\n",
    "        make_crop_version(image_dir,image, cx)"
   ]
  },
  {
   "cell_type": "markdown",
   "metadata": {},
   "source": [
    "### Experiments"
   ]
  },
  {
   "cell_type": "code",
   "execution_count": 30,
   "metadata": {},
   "outputs": [],
   "source": [
    "path = '../images/test'\n",
    "fname = '34384058_05039deebe_z.jpg'\n",
    "\n",
    "# Do selected transforms\n",
    "bw_name = make_bw_version(path,fname)"
   ]
  },
  {
   "cell_type": "code",
   "execution_count": 31,
   "metadata": {},
   "outputs": [
    {
     "data": {
      "text/plain": [
       "'rot-5_bw_34384058_05039deebe_z.jpg'"
      ]
     },
     "execution_count": 31,
     "metadata": {},
     "output_type": "execute_result"
    }
   ],
   "source": [
    "make_rot_version(path,bw_name,5)"
   ]
  },
  {
   "cell_type": "code",
   "execution_count": 40,
   "metadata": {},
   "outputs": [
    {
     "data": {
      "text/plain": [
       "'enh-0.01_34384058_05039deebe_z.jpg'"
      ]
     },
     "execution_count": 40,
     "metadata": {},
     "output_type": "execute_result"
    }
   ],
   "source": [
    "make_enhanced_version(path, fname, 0.01)"
   ]
  },
  {
   "cell_type": "code",
   "execution_count": 86,
   "metadata": {},
   "outputs": [
    {
     "data": {
      "text/plain": [
       "'con-0.3_34384058_05039deebe_z.jpg'"
      ]
     },
     "execution_count": 86,
     "metadata": {},
     "output_type": "execute_result"
    }
   ],
   "source": [
    "con = make_contrast_version(path, fname, 0.3)\n",
    "con"
   ]
  },
  {
   "cell_type": "code",
   "execution_count": 88,
   "metadata": {},
   "outputs": [
    {
     "data": {
      "text/plain": [
       "'crop-0.7_con-0.3_34384058_05039deebe_z.jpg'"
      ]
     },
     "execution_count": 88,
     "metadata": {},
     "output_type": "execute_result"
    }
   ],
   "source": [
    "crop = make_crop_version(path, con, 0.7)\n",
    "crop"
   ]
  },
  {
   "cell_type": "code",
   "execution_count": 89,
   "metadata": {},
   "outputs": [
    {
     "data": {
      "text/plain": [
       "'crop-0.4_34384058_05039deebe_z.jpg'"
      ]
     },
     "execution_count": 89,
     "metadata": {},
     "output_type": "execute_result"
    }
   ],
   "source": [
    "c4 = make_crop_version(path, fname, 0.4)\n",
    "c4"
   ]
  },
  {
   "cell_type": "code",
   "execution_count": 99,
   "metadata": {},
   "outputs": [
    {
     "data": {
      "text/plain": [
       "0.03"
      ]
     },
     "execution_count": 99,
     "metadata": {},
     "output_type": "execute_result"
    }
   ],
   "source": [
    "round(np.random.uniform(.6,.9),2)"
   ]
  },
  {
   "cell_type": "code",
   "execution_count": 49,
   "metadata": {},
   "outputs": [],
   "source": [
    "# get image size\n",
    "\n",
    "fullpath_start = path + '/' + fname\n",
    "fullpath_finish = path + '/' + 'crop-' + fname"
   ]
  },
  {
   "cell_type": "code",
   "execution_count": 76,
   "metadata": {},
   "outputs": [],
   "source": [
    "start_img = Image.open(fullpath_start)"
   ]
  },
  {
   "cell_type": "code",
   "execution_count": 77,
   "metadata": {},
   "outputs": [],
   "source": [
    "wid, ht = start_img.size"
   ]
  },
  {
   "cell_type": "code",
   "execution_count": 78,
   "metadata": {},
   "outputs": [],
   "source": [
    "(left, upper, right, lower) = (0, 0, wid, ht/2)"
   ]
  },
  {
   "cell_type": "code",
   "execution_count": 79,
   "metadata": {},
   "outputs": [],
   "source": [
    "converted = start_img.crop((left, upper, right, lower))"
   ]
  },
  {
   "cell_type": "code",
   "execution_count": null,
   "metadata": {},
   "outputs": [],
   "source": []
  },
  {
   "cell_type": "code",
   "execution_count": 80,
   "metadata": {},
   "outputs": [],
   "source": [
    "\n",
    "converted.save(fullpath_finish)"
   ]
  },
  {
   "cell_type": "code",
   "execution_count": 81,
   "metadata": {},
   "outputs": [],
   "source": [
    "start_img.close()"
   ]
  }
 ],
 "metadata": {
  "kernelspec": {
   "display_name": "Python 3",
   "language": "python",
   "name": "python3"
  },
  "language_info": {
   "codemirror_mode": {
    "name": "ipython",
    "version": 3
   },
   "file_extension": ".py",
   "mimetype": "text/x-python",
   "name": "python",
   "nbconvert_exporter": "python",
   "pygments_lexer": "ipython3",
   "version": "3.7.7"
  }
 },
 "nbformat": 4,
 "nbformat_minor": 4
}
